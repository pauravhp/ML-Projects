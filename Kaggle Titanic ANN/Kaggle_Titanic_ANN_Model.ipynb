{
  "nbformat": 4,
  "nbformat_minor": 0,
  "metadata": {
    "colab": {
      "provenance": []
    },
    "kernelspec": {
      "name": "python3",
      "display_name": "Python 3"
    },
    "language_info": {
      "name": "python"
    }
  },
  "cells": [
    {
      "cell_type": "markdown",
      "source": [
        "# Building an ANN to tackle the Titanic Kaggle Dataset"
      ],
      "metadata": {
        "id": "yzzHZZ19qQHn"
      }
    },
    {
      "cell_type": "markdown",
      "source": [
        "#### Importing necessary libraries"
      ],
      "metadata": {
        "id": "60hmosGIqX_g"
      }
    },
    {
      "cell_type": "code",
      "execution_count": 1,
      "metadata": {
        "id": "oGIjeBFzcS7B"
      },
      "outputs": [],
      "source": [
        "import numpy as np\n",
        "import tensorflow as tf\n",
        "import pandas as pd"
      ]
    },
    {
      "cell_type": "markdown",
      "source": [
        "Reading data into a pandas dataframe"
      ],
      "metadata": {
        "id": "qSrF6Mcfqhp_"
      }
    },
    {
      "cell_type": "code",
      "source": [
        "dataset = pd.read_csv('train.csv')\n",
        "X = dataset.iloc[:, [2, 4, 5, 6, 7, 9, 11]].values\n",
        "y = dataset.iloc[:, 1].values"
      ],
      "metadata": {
        "id": "is5clxNGcXl0"
      },
      "execution_count": 2,
      "outputs": []
    },
    {
      "cell_type": "code",
      "source": [
        "dataset = pd.read_csv('test.csv')\n",
        "X_test = dataset.iloc[:, [1, 3, 4, 5, 6, 8, 10]].values\n",
        "sub_ids = dataset.iloc[:, 0].values"
      ],
      "metadata": {
        "id": "U6AE48VdczXb"
      },
      "execution_count": 3,
      "outputs": []
    },
    {
      "cell_type": "markdown",
      "source": [
        "### Taking Care of Missing Data"
      ],
      "metadata": {
        "id": "yxM_sJzrc2jL"
      }
    },
    {
      "cell_type": "markdown",
      "source": [
        "Age Column"
      ],
      "metadata": {
        "id": "oMmPOJyYqzHr"
      }
    },
    {
      "cell_type": "code",
      "source": [
        "from sklearn.impute import SimpleImputer\n",
        "imp_mean = SimpleImputer(missing_values=np.nan, strategy='mean')\n",
        "imp_mean.fit(X[:, 2].reshape(-1, 1))\n",
        "X[:, 2] = imp_mean.transform(X[:, 2].reshape(-1, 1)).flatten()\n",
        "X_test[:, 2] = imp_mean.transform(X_test[:, 2].reshape(-1, 1)).flatten()"
      ],
      "metadata": {
        "id": "XawwKePgc6iS"
      },
      "execution_count": 4,
      "outputs": []
    },
    {
      "cell_type": "markdown",
      "source": [
        "## Encoding Categorical Data"
      ],
      "metadata": {
        "id": "Ddd3Fduvc9UZ"
      }
    },
    {
      "cell_type": "markdown",
      "source": [
        "Gender Column"
      ],
      "metadata": {
        "id": "UD5OSg0Rq5da"
      }
    },
    {
      "cell_type": "code",
      "source": [
        "from sklearn import preprocessing\n",
        "leGender = preprocessing.LabelEncoder()\n",
        "X[:, 1] = leGender.fit_transform(X[:, 1])\n",
        "X_test[:, 1] = leGender.transform(X_test[:, 1])"
      ],
      "metadata": {
        "id": "b50wvYQvc-NL"
      },
      "execution_count": 5,
      "outputs": []
    },
    {
      "cell_type": "markdown",
      "source": [
        "Embarked Column"
      ],
      "metadata": {
        "id": "fqFDQVo5dIE8"
      }
    },
    {
      "cell_type": "code",
      "source": [
        "from sklearn import preprocessing\n",
        "leEmbarked = preprocessing.LabelEncoder()\n",
        "X[:, -1] = leEmbarked.fit_transform(X[:, -1])\n",
        "X_test[:, -1] = leEmbarked.transform(X_test[:, -1])"
      ],
      "metadata": {
        "id": "AnyaesJJdIrw"
      },
      "execution_count": 6,
      "outputs": []
    },
    {
      "cell_type": "code",
      "source": [
        "print(X.shape)"
      ],
      "metadata": {
        "colab": {
          "base_uri": "https://localhost:8080/"
        },
        "id": "Yd5xcVXYduGX",
        "outputId": "3484a8b4-c89a-4965-d625-1152daa9bebd"
      },
      "execution_count": 7,
      "outputs": [
        {
          "output_type": "stream",
          "name": "stdout",
          "text": [
            "(891, 7)\n"
          ]
        }
      ]
    },
    {
      "cell_type": "code",
      "source": [
        "print(X_test)"
      ],
      "metadata": {
        "colab": {
          "base_uri": "https://localhost:8080/"
        },
        "id": "dRCD0qGVdwLt",
        "outputId": "c7022ded-500e-4112-b09a-8495c35ccd88"
      },
      "execution_count": 8,
      "outputs": [
        {
          "output_type": "stream",
          "name": "stdout",
          "text": [
            "[[3 1 34.5 ... 0 7.8292 1]\n",
            " [3 0 47.0 ... 0 7.0 2]\n",
            " [2 1 62.0 ... 0 9.6875 1]\n",
            " ...\n",
            " [3 1 38.5 ... 0 7.25 2]\n",
            " [3 1 29.69911764705882 ... 0 8.05 2]\n",
            " [3 1 29.69911764705882 ... 1 22.3583 0]]\n"
          ]
        }
      ]
    },
    {
      "cell_type": "markdown",
      "source": [
        "## Feature Scaling"
      ],
      "metadata": {
        "id": "5LqP3BrUdLSL"
      }
    },
    {
      "cell_type": "code",
      "source": [
        "from sklearn.preprocessing import StandardScaler\n",
        "sc = StandardScaler()\n",
        "X = sc.fit_transform(X)\n",
        "X_test = sc.transform(X_test)"
      ],
      "metadata": {
        "id": "7Uqo5f1BdNgF"
      },
      "execution_count": 9,
      "outputs": []
    },
    {
      "cell_type": "code",
      "source": [
        "print(X)"
      ],
      "metadata": {
        "colab": {
          "base_uri": "https://localhost:8080/"
        },
        "id": "ycnj0acOd2Lh",
        "outputId": "0a4bc54d-ce44-4370-c1c0-3f87e04e5f54"
      },
      "execution_count": 10,
      "outputs": [
        {
          "output_type": "stream",
          "name": "stdout",
          "text": [
            "[[ 0.82737724  0.73769513 -0.5924806  ... -0.47367361 -0.50244517\n",
            "   0.58111394]\n",
            " [-1.56610693 -1.35557354  0.63878901 ... -0.47367361  0.78684529\n",
            "  -1.93846038]\n",
            " [ 0.82737724 -1.35557354 -0.2846632  ... -0.47367361 -0.48885426\n",
            "   0.58111394]\n",
            " ...\n",
            " [ 0.82737724 -1.35557354  0.         ...  2.00893337 -0.17626324\n",
            "   0.58111394]\n",
            " [-1.56610693  0.73769513 -0.2846632  ... -0.47367361 -0.04438104\n",
            "  -1.93846038]\n",
            " [ 0.82737724  0.73769513  0.17706291 ... -0.47367361 -0.49237783\n",
            "  -0.67867322]]\n"
          ]
        }
      ]
    },
    {
      "cell_type": "code",
      "source": [
        "print(X_test)"
      ],
      "metadata": {
        "colab": {
          "base_uri": "https://localhost:8080/"
        },
        "id": "Qhcph0zvd36g",
        "outputId": "3385a4ae-e6a1-460b-8a84-db6e10a307e1"
      },
      "execution_count": 11,
      "outputs": [
        {
          "output_type": "stream",
          "name": "stdout",
          "text": [
            "[[ 0.82737724  0.73769513  0.36944878 ... -0.47367361 -0.49078316\n",
            "  -0.67867322]\n",
            " [ 0.82737724 -1.35557354  1.33137817 ... -0.47367361 -0.50747884\n",
            "   0.58111394]\n",
            " [-0.36936484  0.73769513  2.48569343 ... -0.47367361 -0.45336687\n",
            "  -0.67867322]\n",
            " ...\n",
            " [ 0.82737724  0.73769513  0.67726619 ... -0.47367361 -0.50244517\n",
            "   0.58111394]\n",
            " [ 0.82737724  0.73769513  0.         ... -0.47367361 -0.48633742\n",
            "   0.58111394]\n",
            " [ 0.82737724  0.73769513  0.         ...  0.76762988 -0.19824428\n",
            "  -1.93846038]]\n"
          ]
        }
      ]
    },
    {
      "cell_type": "markdown",
      "source": [
        "## Building and Training the ANN"
      ],
      "metadata": {
        "id": "ze39W78JdPoS"
      }
    },
    {
      "cell_type": "markdown",
      "source": [
        "Importing necessary attributes"
      ],
      "metadata": {
        "id": "6y090DrQrBXY"
      }
    },
    {
      "cell_type": "code",
      "source": [
        "from tensorflow.keras.layers import Dense, Input, Dropout, BatchNormalization\n",
        "from tensorflow.keras.models import Model"
      ],
      "metadata": {
        "id": "bSjeCqzioFva"
      },
      "execution_count": 12,
      "outputs": []
    },
    {
      "cell_type": "markdown",
      "source": [
        "Building the model"
      ],
      "metadata": {
        "id": "l-wTyrFJrD_p"
      }
    },
    {
      "cell_type": "code",
      "source": [
        "i = Input(shape=(7,))\n",
        "x = Dense(128, activation = 'relu', kernel_initializer='uniform', kernel_regularizer=tf.keras.regularizers.L2(0.01),\n",
        "    bias_regularizer=tf.keras.regularizers.L2(0.01))(i)\n",
        "x = Dense(64, activation = 'relu', kernel_initializer='uniform', kernel_regularizer=tf.keras.regularizers.L2(0.01),\n",
        "    bias_regularizer=tf.keras.regularizers.L2(0.01)) (x)\n",
        "x = Dense(1, activation = 'sigmoid', kernel_initializer='uniform')(x)\n",
        "\n",
        "model = Model(i, x)"
      ],
      "metadata": {
        "id": "h2DvBSSqdacg"
      },
      "execution_count": 13,
      "outputs": []
    },
    {
      "cell_type": "code",
      "source": [
        "model.compile(optimizer = 'adam', loss = 'binary_crossentropy', metrics = ['accuracy'])"
      ],
      "metadata": {
        "id": "DCRwJoNzdiNn"
      },
      "execution_count": 14,
      "outputs": []
    },
    {
      "cell_type": "markdown",
      "source": [
        "Training the ANN"
      ],
      "metadata": {
        "id": "ViG5po7Xdg4M"
      }
    },
    {
      "cell_type": "code",
      "source": [
        "model.fit(X, y, batch_size = 42, epochs = 100)"
      ],
      "metadata": {
        "colab": {
          "base_uri": "https://localhost:8080/"
        },
        "id": "8ZlWpEmPdkTw",
        "outputId": "095b2744-158b-4d0b-ae09-503195dd329f"
      },
      "execution_count": 15,
      "outputs": [
        {
          "output_type": "stream",
          "name": "stdout",
          "text": [
            "Epoch 1/100\n",
            "22/22 [==============================] - 3s 11ms/step - loss: 0.7323 - accuracy: 0.5993\n",
            "Epoch 2/100\n",
            "22/22 [==============================] - 0s 9ms/step - loss: 0.6844 - accuracy: 0.6162\n",
            "Epoch 3/100\n",
            "22/22 [==============================] - 0s 6ms/step - loss: 0.6147 - accuracy: 0.7385\n",
            "Epoch 4/100\n",
            "22/22 [==============================] - 0s 7ms/step - loss: 0.5608 - accuracy: 0.8025\n",
            "Epoch 5/100\n",
            "22/22 [==============================] - 0s 8ms/step - loss: 0.5258 - accuracy: 0.7957\n",
            "Epoch 6/100\n",
            "22/22 [==============================] - 0s 7ms/step - loss: 0.5105 - accuracy: 0.8081\n",
            "Epoch 7/100\n",
            "22/22 [==============================] - 0s 14ms/step - loss: 0.5055 - accuracy: 0.8047\n",
            "Epoch 8/100\n",
            "22/22 [==============================] - 0s 11ms/step - loss: 0.4942 - accuracy: 0.8047\n",
            "Epoch 9/100\n",
            "22/22 [==============================] - 0s 14ms/step - loss: 0.4917 - accuracy: 0.8092\n",
            "Epoch 10/100\n",
            "22/22 [==============================] - 0s 9ms/step - loss: 0.4844 - accuracy: 0.8114\n",
            "Epoch 11/100\n",
            "22/22 [==============================] - 0s 7ms/step - loss: 0.4821 - accuracy: 0.8159\n",
            "Epoch 12/100\n",
            "22/22 [==============================] - 0s 7ms/step - loss: 0.4865 - accuracy: 0.8126\n",
            "Epoch 13/100\n",
            "22/22 [==============================] - 0s 8ms/step - loss: 0.4782 - accuracy: 0.8058\n",
            "Epoch 14/100\n",
            "22/22 [==============================] - 0s 8ms/step - loss: 0.4800 - accuracy: 0.8013\n",
            "Epoch 15/100\n",
            "22/22 [==============================] - 0s 11ms/step - loss: 0.4754 - accuracy: 0.8103\n",
            "Epoch 16/100\n",
            "22/22 [==============================] - 0s 4ms/step - loss: 0.4711 - accuracy: 0.8114\n",
            "Epoch 17/100\n",
            "22/22 [==============================] - 0s 5ms/step - loss: 0.4707 - accuracy: 0.8092\n",
            "Epoch 18/100\n",
            "22/22 [==============================] - 0s 5ms/step - loss: 0.4701 - accuracy: 0.8103\n",
            "Epoch 19/100\n",
            "22/22 [==============================] - 0s 11ms/step - loss: 0.4698 - accuracy: 0.8159\n",
            "Epoch 20/100\n",
            "22/22 [==============================] - 0s 7ms/step - loss: 0.4677 - accuracy: 0.8159\n",
            "Epoch 21/100\n",
            "22/22 [==============================] - 0s 10ms/step - loss: 0.4644 - accuracy: 0.8148\n",
            "Epoch 22/100\n",
            "22/22 [==============================] - 0s 7ms/step - loss: 0.4635 - accuracy: 0.8137\n",
            "Epoch 23/100\n",
            "22/22 [==============================] - 0s 7ms/step - loss: 0.4610 - accuracy: 0.8227\n",
            "Epoch 24/100\n",
            "22/22 [==============================] - 0s 7ms/step - loss: 0.4645 - accuracy: 0.8137\n",
            "Epoch 25/100\n",
            "22/22 [==============================] - 0s 9ms/step - loss: 0.4598 - accuracy: 0.8204\n",
            "Epoch 26/100\n",
            "22/22 [==============================] - 0s 8ms/step - loss: 0.4610 - accuracy: 0.8159\n",
            "Epoch 27/100\n",
            "22/22 [==============================] - 0s 7ms/step - loss: 0.4584 - accuracy: 0.8193\n",
            "Epoch 28/100\n",
            "22/22 [==============================] - 0s 8ms/step - loss: 0.4593 - accuracy: 0.8238\n",
            "Epoch 29/100\n",
            "22/22 [==============================] - 0s 6ms/step - loss: 0.4568 - accuracy: 0.8204\n",
            "Epoch 30/100\n",
            "22/22 [==============================] - 0s 10ms/step - loss: 0.4550 - accuracy: 0.8126\n",
            "Epoch 31/100\n",
            "22/22 [==============================] - 0s 10ms/step - loss: 0.4575 - accuracy: 0.8148\n",
            "Epoch 32/100\n",
            "22/22 [==============================] - 0s 9ms/step - loss: 0.4575 - accuracy: 0.8238\n",
            "Epoch 33/100\n",
            "22/22 [==============================] - 0s 7ms/step - loss: 0.4558 - accuracy: 0.8182\n",
            "Epoch 34/100\n",
            "22/22 [==============================] - 0s 4ms/step - loss: 0.4534 - accuracy: 0.8193\n",
            "Epoch 35/100\n",
            "22/22 [==============================] - 0s 5ms/step - loss: 0.4568 - accuracy: 0.8182\n",
            "Epoch 36/100\n",
            "22/22 [==============================] - 0s 7ms/step - loss: 0.4551 - accuracy: 0.8182\n",
            "Epoch 37/100\n",
            "22/22 [==============================] - 0s 5ms/step - loss: 0.4562 - accuracy: 0.8137\n",
            "Epoch 38/100\n",
            "22/22 [==============================] - 0s 3ms/step - loss: 0.4524 - accuracy: 0.8249\n",
            "Epoch 39/100\n",
            "22/22 [==============================] - 0s 7ms/step - loss: 0.4516 - accuracy: 0.8260\n",
            "Epoch 40/100\n",
            "22/22 [==============================] - 0s 4ms/step - loss: 0.4486 - accuracy: 0.8260\n",
            "Epoch 41/100\n",
            "22/22 [==============================] - 0s 4ms/step - loss: 0.4476 - accuracy: 0.8272\n",
            "Epoch 42/100\n",
            "22/22 [==============================] - 0s 5ms/step - loss: 0.4510 - accuracy: 0.8215\n",
            "Epoch 43/100\n",
            "22/22 [==============================] - 0s 4ms/step - loss: 0.4472 - accuracy: 0.8283\n",
            "Epoch 44/100\n",
            "22/22 [==============================] - 0s 4ms/step - loss: 0.4491 - accuracy: 0.8294\n",
            "Epoch 45/100\n",
            "22/22 [==============================] - 0s 3ms/step - loss: 0.4501 - accuracy: 0.8283\n",
            "Epoch 46/100\n",
            "22/22 [==============================] - 0s 5ms/step - loss: 0.4482 - accuracy: 0.8305\n",
            "Epoch 47/100\n",
            "22/22 [==============================] - 0s 7ms/step - loss: 0.4475 - accuracy: 0.8272\n",
            "Epoch 48/100\n",
            "22/22 [==============================] - 0s 5ms/step - loss: 0.4502 - accuracy: 0.8294\n",
            "Epoch 49/100\n",
            "22/22 [==============================] - 0s 4ms/step - loss: 0.4470 - accuracy: 0.8283\n",
            "Epoch 50/100\n",
            "22/22 [==============================] - 0s 3ms/step - loss: 0.4446 - accuracy: 0.8305\n",
            "Epoch 51/100\n",
            "22/22 [==============================] - 0s 4ms/step - loss: 0.4473 - accuracy: 0.8204\n",
            "Epoch 52/100\n",
            "22/22 [==============================] - 0s 6ms/step - loss: 0.4450 - accuracy: 0.8238\n",
            "Epoch 53/100\n",
            "22/22 [==============================] - 0s 6ms/step - loss: 0.4461 - accuracy: 0.8249\n",
            "Epoch 54/100\n",
            "22/22 [==============================] - 0s 3ms/step - loss: 0.4469 - accuracy: 0.8249\n",
            "Epoch 55/100\n",
            "22/22 [==============================] - 0s 4ms/step - loss: 0.4438 - accuracy: 0.8294\n",
            "Epoch 56/100\n",
            "22/22 [==============================] - 0s 6ms/step - loss: 0.4421 - accuracy: 0.8283\n",
            "Epoch 57/100\n",
            "22/22 [==============================] - 0s 6ms/step - loss: 0.4429 - accuracy: 0.8305\n",
            "Epoch 58/100\n",
            "22/22 [==============================] - 0s 11ms/step - loss: 0.4418 - accuracy: 0.8272\n",
            "Epoch 59/100\n",
            "22/22 [==============================] - 0s 8ms/step - loss: 0.4417 - accuracy: 0.8395\n",
            "Epoch 60/100\n",
            "22/22 [==============================] - 0s 8ms/step - loss: 0.4423 - accuracy: 0.8294\n",
            "Epoch 61/100\n",
            "22/22 [==============================] - 0s 8ms/step - loss: 0.4408 - accuracy: 0.8238\n",
            "Epoch 62/100\n",
            "22/22 [==============================] - 0s 6ms/step - loss: 0.4415 - accuracy: 0.8328\n",
            "Epoch 63/100\n",
            "22/22 [==============================] - 0s 13ms/step - loss: 0.4392 - accuracy: 0.8384\n",
            "Epoch 64/100\n",
            "22/22 [==============================] - 0s 9ms/step - loss: 0.4447 - accuracy: 0.8249\n",
            "Epoch 65/100\n",
            "22/22 [==============================] - 0s 6ms/step - loss: 0.4412 - accuracy: 0.8406\n",
            "Epoch 66/100\n",
            "22/22 [==============================] - 0s 5ms/step - loss: 0.4420 - accuracy: 0.8215\n",
            "Epoch 67/100\n",
            "22/22 [==============================] - 0s 6ms/step - loss: 0.4410 - accuracy: 0.8316\n",
            "Epoch 68/100\n",
            "22/22 [==============================] - 0s 11ms/step - loss: 0.4377 - accuracy: 0.8339\n",
            "Epoch 69/100\n",
            "22/22 [==============================] - 0s 7ms/step - loss: 0.4370 - accuracy: 0.8328\n",
            "Epoch 70/100\n",
            "22/22 [==============================] - 0s 6ms/step - loss: 0.4359 - accuracy: 0.8249\n",
            "Epoch 71/100\n",
            "22/22 [==============================] - 0s 5ms/step - loss: 0.4382 - accuracy: 0.8339\n",
            "Epoch 72/100\n",
            "22/22 [==============================] - 0s 6ms/step - loss: 0.4377 - accuracy: 0.8384\n",
            "Epoch 73/100\n",
            "22/22 [==============================] - 0s 4ms/step - loss: 0.4367 - accuracy: 0.8305\n",
            "Epoch 74/100\n",
            "22/22 [==============================] - 0s 6ms/step - loss: 0.4356 - accuracy: 0.8305\n",
            "Epoch 75/100\n",
            "22/22 [==============================] - 0s 4ms/step - loss: 0.4361 - accuracy: 0.8339\n",
            "Epoch 76/100\n",
            "22/22 [==============================] - 0s 6ms/step - loss: 0.4368 - accuracy: 0.8272\n",
            "Epoch 77/100\n",
            "22/22 [==============================] - 0s 6ms/step - loss: 0.4433 - accuracy: 0.8283\n",
            "Epoch 78/100\n",
            "22/22 [==============================] - 0s 5ms/step - loss: 0.4450 - accuracy: 0.8204\n",
            "Epoch 79/100\n",
            "22/22 [==============================] - 0s 3ms/step - loss: 0.4414 - accuracy: 0.8260\n",
            "Epoch 80/100\n",
            "22/22 [==============================] - 0s 5ms/step - loss: 0.4360 - accuracy: 0.8339\n",
            "Epoch 81/100\n",
            "22/22 [==============================] - 0s 6ms/step - loss: 0.4360 - accuracy: 0.8294\n",
            "Epoch 82/100\n",
            "22/22 [==============================] - 0s 6ms/step - loss: 0.4322 - accuracy: 0.8283\n",
            "Epoch 83/100\n",
            "22/22 [==============================] - 0s 5ms/step - loss: 0.4327 - accuracy: 0.8350\n",
            "Epoch 84/100\n",
            "22/22 [==============================] - 0s 6ms/step - loss: 0.4325 - accuracy: 0.8339\n",
            "Epoch 85/100\n",
            "22/22 [==============================] - 0s 4ms/step - loss: 0.4322 - accuracy: 0.8316\n",
            "Epoch 86/100\n",
            "22/22 [==============================] - 0s 4ms/step - loss: 0.4326 - accuracy: 0.8339\n",
            "Epoch 87/100\n",
            "22/22 [==============================] - 0s 6ms/step - loss: 0.4340 - accuracy: 0.8283\n",
            "Epoch 88/100\n",
            "22/22 [==============================] - 0s 6ms/step - loss: 0.4323 - accuracy: 0.8406\n",
            "Epoch 89/100\n",
            "22/22 [==============================] - 0s 8ms/step - loss: 0.4312 - accuracy: 0.8328\n",
            "Epoch 90/100\n",
            "22/22 [==============================] - 0s 6ms/step - loss: 0.4338 - accuracy: 0.8418\n",
            "Epoch 91/100\n",
            "22/22 [==============================] - 0s 6ms/step - loss: 0.4371 - accuracy: 0.8305\n",
            "Epoch 92/100\n",
            "22/22 [==============================] - 0s 5ms/step - loss: 0.4404 - accuracy: 0.8305\n",
            "Epoch 93/100\n",
            "22/22 [==============================] - 0s 4ms/step - loss: 0.4325 - accuracy: 0.8361\n",
            "Epoch 94/100\n",
            "22/22 [==============================] - 0s 4ms/step - loss: 0.4282 - accuracy: 0.8350\n",
            "Epoch 95/100\n",
            "22/22 [==============================] - 0s 5ms/step - loss: 0.4328 - accuracy: 0.8373\n",
            "Epoch 96/100\n",
            "22/22 [==============================] - 0s 6ms/step - loss: 0.4297 - accuracy: 0.8361\n",
            "Epoch 97/100\n",
            "22/22 [==============================] - 0s 4ms/step - loss: 0.4297 - accuracy: 0.8373\n",
            "Epoch 98/100\n",
            "22/22 [==============================] - 0s 4ms/step - loss: 0.4301 - accuracy: 0.8406\n",
            "Epoch 99/100\n",
            "22/22 [==============================] - 0s 6ms/step - loss: 0.4290 - accuracy: 0.8316\n",
            "Epoch 100/100\n",
            "22/22 [==============================] - 0s 4ms/step - loss: 0.4308 - accuracy: 0.8361\n"
          ]
        },
        {
          "output_type": "execute_result",
          "data": {
            "text/plain": [
              "<keras.callbacks.History at 0x7f15c20b3280>"
            ]
          },
          "metadata": {},
          "execution_count": 15
        }
      ]
    },
    {
      "cell_type": "markdown",
      "source": [
        "## Compiling Predictions"
      ],
      "metadata": {
        "id": "CS4gY_sJeYn9"
      }
    },
    {
      "cell_type": "code",
      "source": [
        "from sklearn.metrics import confusion_matrix, accuracy_score\n",
        "X_test = np.nan_to_num(X_test)\n",
        "y_pred = model.predict(X_test)\n",
        "y_pred = (y_pred > 0.75)\n",
        "submission = np.concatenate([sub_ids.reshape(-1, 1), y_pred.reshape(-1, 1)], axis=1)\n",
        "print(submission)"
      ],
      "metadata": {
        "id": "Po2oW-kseaUi",
        "colab": {
          "base_uri": "https://localhost:8080/"
        },
        "outputId": "62618afe-9bde-4ea9-90df-8980489fc785"
      },
      "execution_count": 16,
      "outputs": [
        {
          "output_type": "stream",
          "name": "stdout",
          "text": [
            "14/14 [==============================] - 0s 2ms/step\n",
            "[[ 892    0]\n",
            " [ 893    0]\n",
            " [ 894    0]\n",
            " [ 895    0]\n",
            " [ 896    0]\n",
            " [ 897    0]\n",
            " [ 898    0]\n",
            " [ 899    0]\n",
            " [ 900    1]\n",
            " [ 901    0]\n",
            " [ 902    0]\n",
            " [ 903    0]\n",
            " [ 904    1]\n",
            " [ 905    0]\n",
            " [ 906    1]\n",
            " [ 907    1]\n",
            " [ 908    0]\n",
            " [ 909    0]\n",
            " [ 910    0]\n",
            " [ 911    0]\n",
            " [ 912    0]\n",
            " [ 913    0]\n",
            " [ 914    1]\n",
            " [ 915    0]\n",
            " [ 916    1]\n",
            " [ 917    0]\n",
            " [ 918    1]\n",
            " [ 919    0]\n",
            " [ 920    0]\n",
            " [ 921    0]\n",
            " [ 922    0]\n",
            " [ 923    0]\n",
            " [ 924    0]\n",
            " [ 925    0]\n",
            " [ 926    0]\n",
            " [ 927    0]\n",
            " [ 928    0]\n",
            " [ 929    0]\n",
            " [ 930    0]\n",
            " [ 931    0]\n",
            " [ 932    0]\n",
            " [ 933    0]\n",
            " [ 934    0]\n",
            " [ 935    1]\n",
            " [ 936    1]\n",
            " [ 937    0]\n",
            " [ 938    0]\n",
            " [ 939    0]\n",
            " [ 940    1]\n",
            " [ 941    0]\n",
            " [ 942    0]\n",
            " [ 943    0]\n",
            " [ 944    1]\n",
            " [ 945    1]\n",
            " [ 946    0]\n",
            " [ 947    0]\n",
            " [ 948    0]\n",
            " [ 949    0]\n",
            " [ 950    0]\n",
            " [ 951    1]\n",
            " [ 952    0]\n",
            " [ 953    0]\n",
            " [ 954    0]\n",
            " [ 955    0]\n",
            " [ 956    0]\n",
            " [ 957    1]\n",
            " [ 958    0]\n",
            " [ 959    0]\n",
            " [ 960    0]\n",
            " [ 961    1]\n",
            " [ 962    0]\n",
            " [ 963    0]\n",
            " [ 964    0]\n",
            " [ 965    0]\n",
            " [ 966    1]\n",
            " [ 967    0]\n",
            " [ 968    0]\n",
            " [ 969    1]\n",
            " [ 970    0]\n",
            " [ 971    0]\n",
            " [ 972    0]\n",
            " [ 973    0]\n",
            " [ 974    0]\n",
            " [ 975    0]\n",
            " [ 976    0]\n",
            " [ 977    0]\n",
            " [ 978    0]\n",
            " [ 979    0]\n",
            " [ 980    0]\n",
            " [ 981    1]\n",
            " [ 982    0]\n",
            " [ 983    0]\n",
            " [ 984    1]\n",
            " [ 985    0]\n",
            " [ 986    0]\n",
            " [ 987    0]\n",
            " [ 988    1]\n",
            " [ 989    0]\n",
            " [ 990    0]\n",
            " [ 991    0]\n",
            " [ 992    1]\n",
            " [ 993    0]\n",
            " [ 994    0]\n",
            " [ 995    0]\n",
            " [ 996    1]\n",
            " [ 997    0]\n",
            " [ 998    0]\n",
            " [ 999    0]\n",
            " [1000    0]\n",
            " [1001    0]\n",
            " [1002    0]\n",
            " [1003    0]\n",
            " [1004    1]\n",
            " [1005    0]\n",
            " [1006    1]\n",
            " [1007    0]\n",
            " [1008    0]\n",
            " [1009    1]\n",
            " [1010    0]\n",
            " [1011    1]\n",
            " [1012    1]\n",
            " [1013    0]\n",
            " [1014    1]\n",
            " [1015    0]\n",
            " [1016    0]\n",
            " [1017    0]\n",
            " [1018    0]\n",
            " [1019    0]\n",
            " [1020    0]\n",
            " [1021    0]\n",
            " [1022    0]\n",
            " [1023    0]\n",
            " [1024    0]\n",
            " [1025    0]\n",
            " [1026    0]\n",
            " [1027    0]\n",
            " [1028    0]\n",
            " [1029    0]\n",
            " [1030    0]\n",
            " [1031    0]\n",
            " [1032    0]\n",
            " [1033    1]\n",
            " [1034    0]\n",
            " [1035    0]\n",
            " [1036    0]\n",
            " [1037    0]\n",
            " [1038    0]\n",
            " [1039    0]\n",
            " [1040    0]\n",
            " [1041    0]\n",
            " [1042    1]\n",
            " [1043    0]\n",
            " [1044    0]\n",
            " [1045    0]\n",
            " [1046    0]\n",
            " [1047    0]\n",
            " [1048    1]\n",
            " [1049    0]\n",
            " [1050    0]\n",
            " [1051    0]\n",
            " [1052    0]\n",
            " [1053    0]\n",
            " [1054    1]\n",
            " [1055    0]\n",
            " [1056    0]\n",
            " [1057    0]\n",
            " [1058    0]\n",
            " [1059    0]\n",
            " [1060    1]\n",
            " [1061    0]\n",
            " [1062    0]\n",
            " [1063    0]\n",
            " [1064    0]\n",
            " [1065    0]\n",
            " [1066    0]\n",
            " [1067    1]\n",
            " [1068    1]\n",
            " [1069    0]\n",
            " [1070    1]\n",
            " [1071    1]\n",
            " [1072    0]\n",
            " [1073    0]\n",
            " [1074    1]\n",
            " [1075    0]\n",
            " [1076    1]\n",
            " [1077    0]\n",
            " [1078    1]\n",
            " [1079    0]\n",
            " [1080    0]\n",
            " [1081    0]\n",
            " [1082    0]\n",
            " [1083    0]\n",
            " [1084    0]\n",
            " [1085    0]\n",
            " [1086    1]\n",
            " [1087    0]\n",
            " [1088    1]\n",
            " [1089    0]\n",
            " [1090    0]\n",
            " [1091    0]\n",
            " [1092    0]\n",
            " [1093    1]\n",
            " [1094    0]\n",
            " [1095    1]\n",
            " [1096    0]\n",
            " [1097    0]\n",
            " [1098    0]\n",
            " [1099    0]\n",
            " [1100    1]\n",
            " [1101    0]\n",
            " [1102    0]\n",
            " [1103    0]\n",
            " [1104    0]\n",
            " [1105    1]\n",
            " [1106    0]\n",
            " [1107    0]\n",
            " [1108    0]\n",
            " [1109    0]\n",
            " [1110    1]\n",
            " [1111    0]\n",
            " [1112    1]\n",
            " [1113    0]\n",
            " [1114    1]\n",
            " [1115    0]\n",
            " [1116    1]\n",
            " [1117    0]\n",
            " [1118    0]\n",
            " [1119    0]\n",
            " [1120    0]\n",
            " [1121    0]\n",
            " [1122    0]\n",
            " [1123    1]\n",
            " [1124    0]\n",
            " [1125    0]\n",
            " [1126    0]\n",
            " [1127    0]\n",
            " [1128    0]\n",
            " [1129    0]\n",
            " [1130    1]\n",
            " [1131    1]\n",
            " [1132    1]\n",
            " [1133    1]\n",
            " [1134    0]\n",
            " [1135    0]\n",
            " [1136    0]\n",
            " [1137    0]\n",
            " [1138    1]\n",
            " [1139    0]\n",
            " [1140    1]\n",
            " [1141    0]\n",
            " [1142    1]\n",
            " [1143    0]\n",
            " [1144    0]\n",
            " [1145    0]\n",
            " [1146    0]\n",
            " [1147    0]\n",
            " [1148    0]\n",
            " [1149    0]\n",
            " [1150    1]\n",
            " [1151    0]\n",
            " [1152    0]\n",
            " [1153    0]\n",
            " [1154    1]\n",
            " [1155    1]\n",
            " [1156    0]\n",
            " [1157    0]\n",
            " [1158    0]\n",
            " [1159    0]\n",
            " [1160    0]\n",
            " [1161    0]\n",
            " [1162    0]\n",
            " [1163    0]\n",
            " [1164    1]\n",
            " [1165    0]\n",
            " [1166    0]\n",
            " [1167    1]\n",
            " [1168    0]\n",
            " [1169    0]\n",
            " [1170    0]\n",
            " [1171    0]\n",
            " [1172    0]\n",
            " [1173    0]\n",
            " [1174    0]\n",
            " [1175    1]\n",
            " [1176    1]\n",
            " [1177    0]\n",
            " [1178    0]\n",
            " [1179    0]\n",
            " [1180    0]\n",
            " [1181    0]\n",
            " [1182    0]\n",
            " [1183    0]\n",
            " [1184    0]\n",
            " [1185    0]\n",
            " [1186    0]\n",
            " [1187    0]\n",
            " [1188    1]\n",
            " [1189    0]\n",
            " [1190    0]\n",
            " [1191    0]\n",
            " [1192    0]\n",
            " [1193    0]\n",
            " [1194    0]\n",
            " [1195    0]\n",
            " [1196    0]\n",
            " [1197    1]\n",
            " [1198    0]\n",
            " [1199    0]\n",
            " [1200    0]\n",
            " [1201    0]\n",
            " [1202    0]\n",
            " [1203    0]\n",
            " [1204    0]\n",
            " [1205    0]\n",
            " [1206    1]\n",
            " [1207    0]\n",
            " [1208    0]\n",
            " [1209    0]\n",
            " [1210    0]\n",
            " [1211    0]\n",
            " [1212    0]\n",
            " [1213    0]\n",
            " [1214    0]\n",
            " [1215    0]\n",
            " [1216    1]\n",
            " [1217    0]\n",
            " [1218    1]\n",
            " [1219    0]\n",
            " [1220    0]\n",
            " [1221    0]\n",
            " [1222    1]\n",
            " [1223    0]\n",
            " [1224    0]\n",
            " [1225    0]\n",
            " [1226    0]\n",
            " [1227    0]\n",
            " [1228    0]\n",
            " [1229    0]\n",
            " [1230    0]\n",
            " [1231    0]\n",
            " [1232    0]\n",
            " [1233    0]\n",
            " [1234    0]\n",
            " [1235    1]\n",
            " [1236    0]\n",
            " [1237    0]\n",
            " [1238    0]\n",
            " [1239    0]\n",
            " [1240    0]\n",
            " [1241    1]\n",
            " [1242    1]\n",
            " [1243    0]\n",
            " [1244    0]\n",
            " [1245    0]\n",
            " [1246    1]\n",
            " [1247    0]\n",
            " [1248    1]\n",
            " [1249    0]\n",
            " [1250    0]\n",
            " [1251    0]\n",
            " [1252    0]\n",
            " [1253    1]\n",
            " [1254    1]\n",
            " [1255    0]\n",
            " [1256    1]\n",
            " [1257    0]\n",
            " [1258    0]\n",
            " [1259    0]\n",
            " [1260    1]\n",
            " [1261    0]\n",
            " [1262    0]\n",
            " [1263    1]\n",
            " [1264    0]\n",
            " [1265    0]\n",
            " [1266    1]\n",
            " [1267    1]\n",
            " [1268    0]\n",
            " [1269    0]\n",
            " [1270    0]\n",
            " [1271    0]\n",
            " [1272    0]\n",
            " [1273    0]\n",
            " [1274    0]\n",
            " [1275    0]\n",
            " [1276    0]\n",
            " [1277    1]\n",
            " [1278    0]\n",
            " [1279    0]\n",
            " [1280    0]\n",
            " [1281    0]\n",
            " [1282    0]\n",
            " [1283    1]\n",
            " [1284    0]\n",
            " [1285    0]\n",
            " [1286    0]\n",
            " [1287    1]\n",
            " [1288    0]\n",
            " [1289    1]\n",
            " [1290    0]\n",
            " [1291    0]\n",
            " [1292    1]\n",
            " [1293    0]\n",
            " [1294    1]\n",
            " [1295    0]\n",
            " [1296    0]\n",
            " [1297    0]\n",
            " [1298    0]\n",
            " [1299    0]\n",
            " [1300    0]\n",
            " [1301    1]\n",
            " [1302    0]\n",
            " [1303    1]\n",
            " [1304    0]\n",
            " [1305    0]\n",
            " [1306    1]\n",
            " [1307    0]\n",
            " [1308    0]\n",
            " [1309    0]]\n"
          ]
        }
      ]
    },
    {
      "cell_type": "code",
      "source": [
        "df = pd.DataFrame(submission, columns=['PassengerId', 'Survived'])\n",
        "df.to_csv('submission.csv', index=False)"
      ],
      "metadata": {
        "id": "dXzwWgeQe4hX"
      },
      "execution_count": 17,
      "outputs": []
    },
    {
      "cell_type": "markdown",
      "source": [
        "To Download the submissions file"
      ],
      "metadata": {
        "id": "IdVqMMd5sX_5"
      }
    },
    {
      "cell_type": "code",
      "source": [
        "# from google.colab import files\n",
        "\n",
        "# files.download('submission.csv')"
      ],
      "metadata": {
        "colab": {
          "base_uri": "https://localhost:8080/",
          "height": 17
        },
        "id": "BCpcnYD0e-Y7",
        "outputId": "7d6ca2ee-b42c-4b70-ae12-c2a8488b4c8b"
      },
      "execution_count": 18,
      "outputs": [
        {
          "output_type": "display_data",
          "data": {
            "text/plain": [
              "<IPython.core.display.Javascript object>"
            ],
            "application/javascript": [
              "\n",
              "    async function download(id, filename, size) {\n",
              "      if (!google.colab.kernel.accessAllowed) {\n",
              "        return;\n",
              "      }\n",
              "      const div = document.createElement('div');\n",
              "      const label = document.createElement('label');\n",
              "      label.textContent = `Downloading \"${filename}\": `;\n",
              "      div.appendChild(label);\n",
              "      const progress = document.createElement('progress');\n",
              "      progress.max = size;\n",
              "      div.appendChild(progress);\n",
              "      document.body.appendChild(div);\n",
              "\n",
              "      const buffers = [];\n",
              "      let downloaded = 0;\n",
              "\n",
              "      const channel = await google.colab.kernel.comms.open(id);\n",
              "      // Send a message to notify the kernel that we're ready.\n",
              "      channel.send({})\n",
              "\n",
              "      for await (const message of channel.messages) {\n",
              "        // Send a message to notify the kernel that we're ready.\n",
              "        channel.send({})\n",
              "        if (message.buffers) {\n",
              "          for (const buffer of message.buffers) {\n",
              "            buffers.push(buffer);\n",
              "            downloaded += buffer.byteLength;\n",
              "            progress.value = downloaded;\n",
              "          }\n",
              "        }\n",
              "      }\n",
              "      const blob = new Blob(buffers, {type: 'application/binary'});\n",
              "      const a = document.createElement('a');\n",
              "      a.href = window.URL.createObjectURL(blob);\n",
              "      a.download = filename;\n",
              "      div.appendChild(a);\n",
              "      a.click();\n",
              "      div.remove();\n",
              "    }\n",
              "  "
            ]
          },
          "metadata": {}
        },
        {
          "output_type": "display_data",
          "data": {
            "text/plain": [
              "<IPython.core.display.Javascript object>"
            ],
            "application/javascript": [
              "download(\"download_b2dd0de3-12fd-470f-ab9b-e359af2ec5b0\", \"submission.csv\", 2839)"
            ]
          },
          "metadata": {}
        }
      ]
    }
  ]
}